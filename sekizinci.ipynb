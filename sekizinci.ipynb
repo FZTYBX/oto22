{
 "cells": [
  {
   "cell_type": "code",
   "execution_count": 10,
   "metadata": {},
   "outputs": [],
   "source": [
    "# sıralama...\n",
    "# syntax - data structures - algorithms.\n",
    "\n",
    "a = [ 9 , 7 , 11 , 5 , 4 , 19 , 1 , 23]\n",
    "\n",
    "# ahmet\n",
    "# ahmez\n",
    "\n",
    "x = 'A' \n",
    "y = 'a'\n",
    "if 'at' < 'ab' :\n",
    "    print( ord(x[0]) , ord(y[0]) )"
   ]
  },
  {
   "cell_type": "code",
   "execution_count": 11,
   "metadata": {},
   "outputs": [
    {
     "name": "stdout",
     "output_type": "stream",
     "text": [
      "Önce tavuk vardı..\n"
     ]
    }
   ],
   "source": [
    "tavuk = \"🥚\"\n",
    "yumurta  =  \"🐔\"\n",
    "\n",
    "if ( tavuk > yumurta) :\n",
    "    print(\"Önce tavuk vardı..\")\n",
    "else :\n",
    "    print(\"Önce yumurta vardı.\")"
   ]
  },
  {
   "cell_type": "code",
   "execution_count": 30,
   "metadata": {},
   "outputs": [
    {
     "name": "stdout",
     "output_type": "stream",
     "text": [
      "49 [1, 4, 5, 7, 9, 11, 19, 23]\n"
     ]
    }
   ],
   "source": [
    "def yer_degistir(lst, ind1, ind2 ):\n",
    "    tmp = lst[ind1]\n",
    "    a[ind1] = a[ind2]\n",
    "    a[ind2] = tmp\n",
    "\n",
    "a = [ 9 , 7 , 11 , 5 , 4 , 19 , 1 , 23]\n",
    "# dandik bubble sort - kabarcık sıralama alg..\n",
    "islem_sayisi = 0\n",
    "for x in range(len(a)) :\n",
    "    y_deg = False\n",
    "    for i in range(len(a)-1) :\n",
    "        islem_sayisi += 1\n",
    "        if a[i] > a[i+1] :\n",
    "            yer_degistir(a,i,i+1)\n",
    "            y_deg = True\n",
    "    if (not y_deg):\n",
    "        break        \n",
    "    \n",
    "print(islem_sayisi , a)\n",
    "\n"
   ]
  },
  {
   "cell_type": "code",
   "execution_count": 40,
   "metadata": {},
   "outputs": [],
   "source": [
    "# a  = []\n",
    "# for i in range(100) :\n",
    "#     a.append(i)\n",
    "import random , time\n",
    "a = [random.randrange(0,1000) for x in range(10000)]\n",
    "b = a[:]\n",
    "   "
   ]
  },
  {
   "cell_type": "code",
   "execution_count": 41,
   "metadata": {},
   "outputs": [
    {
     "name": "stdout",
     "output_type": "stream",
     "text": [
      "Bizimki: Toplam gecen süre: 92.32235288619995\n",
      "a.sort süresi : Toplam gecen süre: 0.0014786720275878906\n"
     ]
    }
   ],
   "source": [
    "baslangic_zamani = time.time()\n",
    "islem_sayisi = 0\n",
    "for x in range(len(a)) :\n",
    "    y_deg = False\n",
    "    for i in range(len(a)-1) :\n",
    "        islem_sayisi += 1\n",
    "        if a[i] > a[i+1] :\n",
    "            yer_degistir(a,i,i+1)\n",
    "            y_deg = True\n",
    "    if (not y_deg):\n",
    "        break  \n",
    "print(f\"Bizimki: Toplam gecen süre: {time.time()-baslangic_zamani}\") \n",
    "\n",
    "baslangic_zamani = time.time()\n",
    "b.sort()\n",
    "print(f\"a.sort süresi : Toplam gecen süre: {time.time()-baslangic_zamani}\") "
   ]
  },
  {
   "cell_type": "code",
   "execution_count": 42,
   "metadata": {},
   "outputs": [
    {
     "name": "stdout",
     "output_type": "stream",
     "text": [
      "62435.990648178005\n"
     ]
    }
   ],
   "source": [
    "print( 92.32235288619995 / 0.0014786720275878906)"
   ]
  },
  {
   "cell_type": "code",
   "execution_count": 44,
   "metadata": {},
   "outputs": [
    {
     "name": "stdout",
     "output_type": "stream",
     "text": [
      "np: Toplam gecen süre: 0.0008447170257568359\n"
     ]
    }
   ],
   "source": [
    "import numpy as np\n",
    "\n",
    "a = [random.randrange(0,1000) for x in range(10000)]\n",
    "x = np.array(a)\n",
    "\n",
    "baslangic_zamani = time.time()\n",
    "\n",
    "b = x.sort()\n",
    "\n",
    "\n",
    "print(f\"np: Toplam gecen süre: {time.time()-baslangic_zamani}\") "
   ]
  },
  {
   "cell_type": "code",
   "execution_count": 45,
   "metadata": {},
   "outputs": [
    {
     "name": "stdout",
     "output_type": "stream",
     "text": [
      "1.7504939316963026\n"
     ]
    }
   ],
   "source": [
    "print(0.0014786720275878906 / 0.0008447170257568359 )"
   ]
  }
 ],
 "metadata": {
  "kernelspec": {
   "display_name": "Python 3.10.8 64-bit",
   "language": "python",
   "name": "python3"
  },
  "language_info": {
   "codemirror_mode": {
    "name": "ipython",
    "version": 3
   },
   "file_extension": ".py",
   "mimetype": "text/x-python",
   "name": "python",
   "nbconvert_exporter": "python",
   "pygments_lexer": "ipython3",
   "version": "3.10.8"
  },
  "orig_nbformat": 4,
  "vscode": {
   "interpreter": {
    "hash": "e7370f93d1d0cde622a1f8e1c04877d8463912d04d973331ad4851f04de6915a"
   }
  }
 },
 "nbformat": 4,
 "nbformat_minor": 2
}
