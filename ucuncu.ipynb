{
 "cells": [
  {
   "cell_type": "code",
   "execution_count": 1,
   "metadata": {},
   "outputs": [
    {
     "data": {
      "text/plain": [
       "'merhaba'"
      ]
     },
     "execution_count": 1,
     "metadata": {},
     "output_type": "execute_result"
    }
   ],
   "source": [
    "a = \"merhaba\"\n",
    "\n",
    "a"
   ]
  },
  {
   "cell_type": "code",
   "execution_count": 2,
   "metadata": {},
   "outputs": [
    {
     "name": "stdout",
     "output_type": "stream",
     "text": [
      "merhabamerhaba\n"
     ]
    }
   ],
   "source": [
    "a *= 2\n",
    "\n",
    "print(a)"
   ]
  },
  {
   "cell_type": "markdown",
   "metadata": {},
   "source": [
    "eşittir operatörü öncesinde bir başka operatör kullanılrsa son değeri kendisine atar..."
   ]
  },
  {
   "cell_type": "code",
   "execution_count": 7,
   "metadata": {},
   "outputs": [
    {
     "data": {
      "text/plain": [
       "-1.0"
      ]
     },
     "execution_count": 7,
     "metadata": {},
     "output_type": "execute_result"
    }
   ],
   "source": [
    "x = 5\n",
    "x = x + 1\n",
    "x +=  1\n",
    "x *=   4\n",
    "x /= 2\n",
    "x **= 2\n",
    "x //= 3\n",
    "x %= 5\n",
    "x -= 1\n",
    "\n",
    "x"
   ]
  },
  {
   "cell_type": "markdown",
   "metadata": {},
   "source": [
    "# LOOPS - DÖNGÜLER\n",
    "\n",
    "while - for"
   ]
  },
  {
   "cell_type": "code",
   "execution_count": 10,
   "metadata": {},
   "outputs": [
    {
     "name": "stdout",
     "output_type": "stream",
     "text": [
      "3\n",
      "4\n",
      "5\n",
      "6\n",
      "7\n",
      "8\n",
      "9\n",
      "Program bitti.\n"
     ]
    }
   ],
   "source": [
    "a = 3\n",
    "while a < 10 :\n",
    "    print(a)\n",
    "    a += 1\n",
    "print(\"Program bitti.\")"
   ]
  },
  {
   "cell_type": "code",
   "execution_count": 14,
   "metadata": {},
   "outputs": [
    {
     "name": "stdout",
     "output_type": "stream",
     "text": [
      "1\n",
      "2\n",
      "3\n",
      "4\n",
      "5\n"
     ]
    }
   ],
   "source": [
    "x = 0\n",
    "while x < 5 :\n",
    "    x += 1\n",
    "    print(x)"
   ]
  },
  {
   "cell_type": "markdown",
   "metadata": {},
   "source": [
    "Aşağıdaki çıktıyı döngü ile veren python kodunu yazınız.\n",
    "#\n",
    "##\n",
    "###\n",
    "####\n",
    "#####"
   ]
  },
  {
   "cell_type": "code",
   "execution_count": 17,
   "metadata": {},
   "outputs": [
    {
     "name": "stdout",
     "output_type": "stream",
     "text": [
      "#\n",
      "##\n",
      "###\n",
      "####\n",
      "#####\n"
     ]
    }
   ],
   "source": [
    "x = 0\n",
    "while x < 5 :\n",
    "    x += 1\n",
    "    print(x * \"#\")"
   ]
  },
  {
   "cell_type": "code",
   "execution_count": 19,
   "metadata": {},
   "outputs": [
    {
     "name": "stdout",
     "output_type": "stream",
     "text": [
      "5\n",
      "4\n",
      "3\n",
      "2\n",
      "1\n"
     ]
    }
   ],
   "source": [
    "x = 0\n",
    "while x < 5 :\n",
    "    x += 1\n",
    "    print(6-x)"
   ]
  },
  {
   "cell_type": "code",
   "execution_count": 21,
   "metadata": {},
   "outputs": [
    {
     "name": "stdout",
     "output_type": "stream",
     "text": [
      "xxxxx\n",
      "xxxx\n",
      "xxx\n",
      "xx\n",
      "x\n"
     ]
    }
   ],
   "source": [
    "x = 5 \n",
    "while x > 0 :\n",
    "    print(x * \"x\")\n",
    "    x -= 1"
   ]
  },
  {
   "cell_type": "code",
   "execution_count": 30,
   "metadata": {},
   "outputs": [
    {
     "name": "stdout",
     "output_type": "stream",
     "text": [
      "o\n",
      "oo\n",
      "ooo\n",
      "oooo\n",
      "ooooo\n",
      "oooo\n",
      "ooo\n",
      "oo\n",
      "o\n"
     ]
    }
   ],
   "source": [
    "x = 0\n",
    "while x < 9 :\n",
    "    x += 1\n",
    "    if x <= 5:\n",
    "        print(x * \"o\")\n",
    "    else :\n",
    "        print( (10-x) * \"o\" )\n",
    "\n",
    "    "
   ]
  },
  {
   "cell_type": "code",
   "execution_count": 32,
   "metadata": {},
   "outputs": [
    {
     "name": "stdout",
     "output_type": "stream",
     "text": [
      "5 5\n",
      "20 4\n",
      "60 3\n",
      "120 2\n",
      "5 Faktoriyelin sonucu:  120\n"
     ]
    }
   ],
   "source": [
    "# faktoriyel hesabı\n",
    "faktoriyel = 5\n",
    "sonuc = 1\n",
    "while faktoriyel > 1 :\n",
    "    sonuc *= faktoriyel\n",
    "#    print(sonuc, faktoriyel)\n",
    "    faktoriyel -= 1\n",
    "print(\"5 Faktoriyelin sonucu: \", sonuc)"
   ]
  },
  {
   "cell_type": "code",
   "execution_count": null,
   "metadata": {},
   "outputs": [],
   "source": [
    "x = 0\n",
    "# sonsuz döngü... \n",
    "# super loop\n",
    "while True :\n",
    "    print(x)"
   ]
  },
  {
   "cell_type": "code",
   "execution_count": 36,
   "metadata": {},
   "outputs": [
    {
     "name": "stdout",
     "output_type": "stream",
     "text": [
      "0\n",
      "2\n",
      "4\n"
     ]
    }
   ],
   "source": [
    "# döngüyü durdurmak için \n",
    "\n",
    "x = 0 \n",
    "while not False :\n",
    "    print(x)\n",
    "    x += 2\n",
    "    if x >= 5:\n",
    "        break"
   ]
  },
  {
   "cell_type": "code",
   "execution_count": 40,
   "metadata": {},
   "outputs": [
    {
     "name": "stdout",
     "output_type": "stream",
     "text": [
      "x: 5  y: 4\n",
      "x: 5  y: 3\n",
      "x: 5  y: 2\n",
      "x: 5  y: 1\n",
      "x: 5  y: 0\n",
      "x: 4  y: 4\n",
      "x: 4  y: 3\n",
      "x: 4  y: 2\n",
      "x: 4  y: 1\n",
      "x: 4  y: 0\n",
      "x: 3  y: 4\n",
      "x: 3  y: 3\n",
      "x: 3  y: 2\n",
      "x: 3  y: 1\n",
      "x: 3  y: 0\n",
      "x: 2  y: 4\n",
      "x: 2  y: 3\n",
      "x: 2  y: 2\n",
      "x: 2  y: 1\n",
      "x: 2  y: 0\n",
      "x: 1  y: 4\n",
      "x: 1  y: 3\n",
      "x: 1  y: 2\n",
      "x: 1  y: 1\n",
      "x: 1  y: 0\n"
     ]
    }
   ],
   "source": [
    "#iç içe döngüler\n",
    "x  = 5 \n",
    "while  x > 0 :\n",
    "    y = 5\n",
    "    while y > 0 :\n",
    "        y -= 1\n",
    "        print(\"x:\", x ,\" y:\", y )\n",
    "    x -= 1"
   ]
  },
  {
   "cell_type": "code",
   "execution_count": 43,
   "metadata": {},
   "outputs": [
    {
     "name": "stdout",
     "output_type": "stream",
     "text": [
      "5-6-7-8#10\n"
     ]
    }
   ],
   "source": [
    "print( 5 , 6 , 7 , 8 , sep=\"-\", end=\"#\")\n",
    "\n",
    "print(10)"
   ]
  },
  {
   "cell_type": "code",
   "execution_count": 48,
   "metadata": {},
   "outputs": [
    {
     "name": "stdout",
     "output_type": "stream",
     "text": [
      "1 1\n",
      "2 12\n",
      "3 123\n",
      "4 1234\n",
      "5 12345\n"
     ]
    }
   ],
   "source": [
    "# 1\n",
    "# 12\n",
    "# 123\n",
    "# 1234\n",
    "# 12345\n",
    "\n",
    "x = 0\n",
    "while x < 5:\n",
    "    x += 1\n",
    "    print(x,end=\" \")\n",
    "    y = 0\n",
    "    while y < x :\n",
    "        y += 1\n",
    "        print(y,end=\"\")\n",
    "    print(\"\")"
   ]
  },
  {
   "cell_type": "code",
   "execution_count": 49,
   "metadata": {},
   "outputs": [
    {
     "name": "stdout",
     "output_type": "stream",
     "text": [
      "Defaulting to user installation because normal site-packages is not writeable\n",
      "Requirement already satisfied: pygame in /usr/lib/python3.10/site-packages (2.1.2)\n",
      "\u001b[33mWARNING: You are using pip version 21.3.1; however, version 22.3 is available.\n",
      "You should consider upgrading via the '/bin/python -m pip install --upgrade pip' command.\u001b[0m\n",
      "Note: you may need to restart the kernel to use updated packages.\n"
     ]
    }
   ],
   "source": [
    "%pip install pygame"
   ]
  },
  {
   "cell_type": "code",
   "execution_count": 50,
   "metadata": {},
   "outputs": [
    {
     "name": "stdout",
     "output_type": "stream",
     "text": [
      "pygame 2.1.2 (SDL 2.24.2, Python 3.10.8)\n",
      "Hello from the pygame community. https://www.pygame.org/contribute.html\n"
     ]
    }
   ],
   "source": [
    "import pygame"
   ]
  },
  {
   "cell_type": "code",
   "execution_count": 51,
   "metadata": {},
   "outputs": [
    {
     "name": "stdout",
     "output_type": "stream",
     "text": [
      "Çıkmak için -1 yazınız.\n",
      "Final için almanız gereken not: 50\n",
      "Final için almanız gereken not: 50\n",
      "Final için almanız greken not:  70\n",
      "Final için almanız greken not:  74\n"
     ]
    }
   ],
   "source": [
    "import math\n",
    "print(\"Çıkmak için -1 yazınız.\")\n",
    "while True:\n",
    "    vize = int ( input(\"Vize sonucunu giriniz: \") )\n",
    "    if vize == -1 :\n",
    "        break\n",
    "    if vize < 50:\n",
    "        final_icin_gerekli_not = ( 50 - 0.4 * vize ) / 0.6\n",
    "        print(\"Final için almanız greken not: \" , math.ceil(final_icin_gerekli_not))\n",
    "    else:\n",
    "        print(\"Final için almanız gereken not: 50\")"
   ]
  },
  {
   "cell_type": "code",
   "execution_count": 53,
   "metadata": {},
   "outputs": [
    {
     "name": "stdout",
     "output_type": "stream",
     "text": [
      "Tahmininiz yüksek\n",
      "Tahmininiz düşük\n",
      "Tahmininiz düşük\n",
      "Tebrikler bildiniz.\n"
     ]
    }
   ],
   "source": [
    "import random\n",
    "\n",
    "bilgisayarın_attığı_sayı = random.randrange(0,10)\n",
    "\n",
    "while True:\n",
    "    tahmin = int(input(\"1-9 arası bir sayı girniz.\"))\n",
    "    if tahmin > bilgisayarın_attığı_sayı :\n",
    "        print(\"Tahmininiz yüksek\")\n",
    "    elif tahmin < bilgisayarın_attığı_sayı :\n",
    "        print(\"Tahmininiz düşük\")\n",
    "    else:\n",
    "        print(\"Tebrikler bildiniz.\")\n",
    "        break\n",
    "\n",
    "\n"
   ]
  },
  {
   "cell_type": "code",
   "execution_count": 54,
   "metadata": {},
   "outputs": [
    {
     "name": "stdout",
     "output_type": "stream",
     "text": [
      "1\n",
      "34\n",
      "6\n",
      "8\n",
      "9\n"
     ]
    }
   ],
   "source": [
    "# for döngüsü\n",
    "\n",
    "for i in 1,34,6,8,9 :\n",
    "    print(i)"
   ]
  },
  {
   "cell_type": "code",
   "execution_count": 60,
   "metadata": {},
   "outputs": [
    {
     "name": "stdout",
     "output_type": "stream",
     "text": [
      "5\n",
      "7\n",
      "9\n",
      "5\n",
      "7\n",
      "9\n"
     ]
    }
   ],
   "source": [
    "for i in range(5,10,2):\n",
    "    print(i)\n",
    "i = 5\n",
    "while  i < 10:\n",
    "    print(i)\n",
    "    i += 2"
   ]
  },
  {
   "cell_type": "code",
   "execution_count": 63,
   "metadata": {},
   "outputs": [
    {
     "name": "stdout",
     "output_type": "stream",
     "text": [
      "a harfinden  3  kadar var\n"
     ]
    }
   ],
   "source": [
    "adet = 0\n",
    "for index in \"Merhaba Dünya\" :\n",
    "    if index == \"a\" :\n",
    "        adet += 1\n",
    "\n",
    "print(\"a harfinden \" , adet , \" kadar var\")"
   ]
  },
  {
   "cell_type": "code",
   "execution_count": 66,
   "metadata": {},
   "outputs": [
    {
     "name": "stdout",
     "output_type": "stream",
     "text": [
      "2\n",
      "4\n",
      "6\n",
      "8\n",
      "10\n"
     ]
    }
   ],
   "source": [
    "x = 0\n",
    "while x < 10 :\n",
    "    x+=1\n",
    "    # if x % 2 == 1 :\n",
    "    if x % 2 :\n",
    "        continue\n",
    "    # if x % 2 == 0 :\n",
    "    print(x)"
   ]
  }
 ],
 "metadata": {
  "kernelspec": {
   "display_name": "Python 3.10.8 64-bit",
   "language": "python",
   "name": "python3"
  },
  "language_info": {
   "codemirror_mode": {
    "name": "ipython",
    "version": 3
   },
   "file_extension": ".py",
   "mimetype": "text/x-python",
   "name": "python",
   "nbconvert_exporter": "python",
   "pygments_lexer": "ipython3",
   "version": "3.10.8"
  },
  "orig_nbformat": 4,
  "vscode": {
   "interpreter": {
    "hash": "e7370f93d1d0cde622a1f8e1c04877d8463912d04d973331ad4851f04de6915a"
   }
  }
 },
 "nbformat": 4,
 "nbformat_minor": 2
}
