{
 "cells": [
  {
   "cell_type": "code",
   "execution_count": 3,
   "metadata": {},
   "outputs": [
    {
     "name": "stdout",
     "output_type": "stream",
     "text": [
      "12500\n"
     ]
    }
   ],
   "source": [
    "class Araba :\n",
    "    fiyati = None\n",
    "    def __init__(self,f) -> None:\n",
    "        self.fiyati = f\n",
    "    # operator overloading\n",
    "    def __add__(self,diger) :\n",
    "        return self.fiyati + diger.fiyati\n",
    "    def __gt__(self, diger) :\n",
    "        return self.fiyati > diger.fiyati\n",
    "\n",
    "a = Araba(5000)\n",
    "b = Araba(7500)\n",
    "\n",
    "print( a + b )\n",
    "\n",
    "if( a > b ) :\n",
    "    print(\"Birinci araba ??? büyük\")\n",
    "\n"
   ]
  },
  {
   "cell_type": "code",
   "execution_count": 4,
   "metadata": {},
   "outputs": [
    {
     "data": {
      "text/plain": [
       "False"
      ]
     },
     "execution_count": 4,
     "metadata": {},
     "output_type": "execute_result"
    }
   ],
   "source": [
    "x : str = \"string\"\n",
    "x = 5\n",
    "x = 2.2\n",
    "\n",
    "a = 7\n"
   ]
  },
  {
   "cell_type": "code",
   "execution_count": 6,
   "metadata": {},
   "outputs": [
    {
     "name": "stdout",
     "output_type": "stream",
     "text": [
      "Lütfen 0 harici bir rakam giriniz.\n"
     ]
    }
   ],
   "source": [
    "# exception handling\n",
    "# istisna yönetimi\n",
    "\n",
    "i = input(\"Bir sayı gir\")\n",
    "\n",
    "# print( 5 / i) # TypeError\n",
    "# print( 5 / int(i) ) # 0 girilmişse ZeroDivisonError\n",
    "# sayı yerine a harfi girmişse ? ValueError\n",
    "try :\n",
    "   # print( 5 / i)\n",
    "    print( 5 / int(i) )\n",
    "except ZeroDivisionError:\n",
    "    print(\"Lütfen 0 harici bir rakam giriniz.\")\n",
    "except :\n",
    "    print(\"Bir hata oluştu..\")"
   ]
  },
  {
   "cell_type": "code",
   "execution_count": 12,
   "metadata": {},
   "outputs": [
    {
     "name": "stdout",
     "output_type": "stream",
     "text": [
      "Programa hoşgeldiniz.=====\n",
      "Programdan çıkmak için e harfini giriniz.\n",
      "Final için almanız greken not:  69\n",
      "Final için almanız gereken not: 50\n",
      "Lütfen bir sayı giriniz.\n",
      "Lütfen bir sayı giriniz.\n",
      "Lütfen bir sayı giriniz.\n",
      "Final için almanız gereken not: 50\n",
      "Lütfen bir sayı giriniz.\n"
     ]
    }
   ],
   "source": [
    "from benimfonksiyonlar import final_hesapla\n",
    "print(\"Programa hoşgeldiniz.=====\")\n",
    "print(\"Programdan çıkmak için e harfini giriniz.\")\n",
    "while True:\n",
    "    veri = input(\"Vize notunuzu giriniz: \");\n",
    "    if(veri == \"e\" ):\n",
    "        break;\n",
    "    try :\n",
    "        vize_notu = float ( veri )\n",
    "        final_hesapla(vize_notu)\n",
    "    except ValueError :\n",
    "        print(\"Lütfen bir sayı giriniz.\")\n",
    "    except :\n",
    "        print(\"Bilinmeyen bir hata oluştu.\")\n",
    "    "
   ]
  },
  {
   "cell_type": "code",
   "execution_count": 15,
   "metadata": {},
   "outputs": [
    {
     "ename": "KeyError",
     "evalue": "'yıl_yok'",
     "output_type": "error",
     "traceback": [
      "\u001b[0;31m---------------------------------------------------------------------------\u001b[0m",
      "\u001b[0;31mKeyError\u001b[0m                                  Traceback (most recent call last)",
      "Cell \u001b[0;32mIn[15], line 4\u001b[0m\n\u001b[1;32m      1\u001b[0m liste \u001b[39m=\u001b[39m [\u001b[39m2\u001b[39m, \u001b[39m6\u001b[39m , \u001b[39m\"\u001b[39m\u001b[39mdebeme\u001b[39m\u001b[39m\"\u001b[39m]\n\u001b[1;32m      2\u001b[0m sözlük \u001b[39m=\u001b[39m { \u001b[39m\"\u001b[39m\u001b[39myıl\u001b[39m\u001b[39m\"\u001b[39m:\u001b[39m2023\u001b[39m , \u001b[39m\"\u001b[39m\u001b[39mbölüm\u001b[39m\u001b[39m\"\u001b[39m : \u001b[39m\"\u001b[39m\u001b[39motomotiv\u001b[39m\u001b[39m\"\u001b[39m}\n\u001b[0;32m----> 4\u001b[0m \u001b[39mprint\u001b[39m(sözlük[\u001b[39m\"\u001b[39;49m\u001b[39myıl_yok\u001b[39;49m\u001b[39m\"\u001b[39;49m])\n",
      "\u001b[0;31mKeyError\u001b[0m: 'yıl_yok'"
     ]
    }
   ],
   "source": [
    "liste = [2, 6 , \"debeme\"]\n",
    "sözlük = { \"yıl\":2023 , \"bölüm\" : \"otomotiv\"}\n",
    "\n",
    "print(sözlük[\"yıl_yok\"])"
   ]
  },
  {
   "cell_type": "code",
   "execution_count": 16,
   "metadata": {},
   "outputs": [
    {
     "name": "stdout",
     "output_type": "stream",
     "text": [
      "Böyle bir modül yok\n"
     ]
    }
   ],
   "source": [
    "try :\n",
    "    import olmayan_modul\n",
    "except:\n",
    "    print(\"Böyle bir modül yok\")"
   ]
  },
  {
   "cell_type": "code",
   "execution_count": 17,
   "metadata": {},
   "outputs": [
    {
     "name": "stdout",
     "output_type": "stream",
     "text": [
      "Değişken adı hatalı.\n"
     ]
    }
   ],
   "source": [
    "try :\n",
    "    print( olmayan_değişken )\n",
    "except NameError :\n",
    "    print(\"Değişken adı hatalı.\") "
   ]
  },
  {
   "cell_type": "code",
   "execution_count": 19,
   "metadata": {},
   "outputs": [
    {
     "data": {
      "text/plain": [
       "15"
      ]
     },
     "execution_count": 19,
     "metadata": {},
     "output_type": "execute_result"
    }
   ],
   "source": [
    "# f(x) = 2x + 5\n",
    "\n",
    "def f(x):\n",
    "    return 2*x + 5\n",
    "\n",
    "z = f(5)\n",
    "\n",
    "f_fonksiyonu_ile_ayni = f\n",
    "\n",
    "f_fonksiyonu_ile_ayni(5)"
   ]
  },
  {
   "cell_type": "code",
   "execution_count": 20,
   "metadata": {},
   "outputs": [
    {
     "data": {
      "text/plain": [
       "15"
      ]
     },
     "execution_count": 20,
     "metadata": {},
     "output_type": "execute_result"
    }
   ],
   "source": [
    "# lambda fonksiyon yazımı\n",
    "# f(x) = 2x + 5\n",
    "\n",
    "f = lambda x : 2 * x + 5\n",
    "\n",
    "f(5)"
   ]
  },
  {
   "cell_type": "code",
   "execution_count": 23,
   "metadata": {},
   "outputs": [
    {
     "name": "stdout",
     "output_type": "stream",
     "text": [
      "120\n"
     ]
    }
   ],
   "source": [
    "# recursive function\n",
    "# yinelemeli fonksiyon\n",
    "\n",
    "def faktoriyel ( x ) :\n",
    "    if ( x == 2) :\n",
    "        return 2\n",
    "    return x * faktoriyel( x - 1 )\n",
    "\n",
    "print( faktoriyel ( 5 ) )"
   ]
  },
  {
   "cell_type": "code",
   "execution_count": 25,
   "metadata": {},
   "outputs": [
    {
     "name": "stdout",
     "output_type": "stream",
     "text": [
      "dfas\n",
      "hata\n"
     ]
    }
   ],
   "source": [
    "try:\n",
    "    print(\"dfas\")\n",
    "    Print(\"dfas\")\n",
    "except:\n",
    "    print(\"hata\")"
   ]
  },
  {
   "cell_type": "code",
   "execution_count": null,
   "metadata": {},
   "outputs": [],
   "source": [
    "try:\n",
    "    f = open(\"dosya\")\n",
    "    f.read()\n",
    "except :\n",
    "    print(\"lütfen sayı aralığı 0-4 olsun.\")\n",
    "finally :\n",
    "    if f: \n",
    "        f.close()\n",
    "    print(\"Her durumda çalışır.\")"
   ]
  },
  {
   "cell_type": "code",
   "execution_count": 28,
   "metadata": {},
   "outputs": [
    {
     "name": "stdout",
     "output_type": "stream",
     "text": [
      "-5  0 dan küçük olamaz.\n"
     ]
    }
   ],
   "source": [
    "class SifirYuzArasinda(Exception):\n",
    "    def __init__(self, b,c) -> None:\n",
    "        self.baslangic = b\n",
    "        self.bitis = c\n",
    "\n",
    "try :\n",
    "    veri = int ( input(\"Sayı gir: \"))\n",
    "    if(veri < 0) :\n",
    "        raise SifirYuzArasinda(veri,veri)\n",
    "except SifirYuzArasinda as e:\n",
    "    print(e.baslangic, \" 0 dan küçük olamaz.\")"
   ]
  },
  {
   "cell_type": "code",
   "execution_count": null,
   "metadata": {},
   "outputs": [],
   "source": [
    "numpy\n",
    "pandas\n",
    "matplotlib\n",
    "skitlearn\n",
    "\n"
   ]
  }
 ],
 "metadata": {
  "kernelspec": {
   "display_name": "Python 3",
   "language": "python",
   "name": "python3"
  },
  "language_info": {
   "codemirror_mode": {
    "name": "ipython",
    "version": 3
   },
   "file_extension": ".py",
   "mimetype": "text/x-python",
   "name": "python",
   "nbconvert_exporter": "python",
   "pygments_lexer": "ipython3",
   "version": "3.10.8"
  },
  "orig_nbformat": 4,
  "vscode": {
   "interpreter": {
    "hash": "e7370f93d1d0cde622a1f8e1c04877d8463912d04d973331ad4851f04de6915a"
   }
  }
 },
 "nbformat": 4,
 "nbformat_minor": 2
}
