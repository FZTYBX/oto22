{
 "cells": [
  {
   "cell_type": "markdown",
   "metadata": {},
   "source": [
    "pygame\n",
    "ekranda tüm parametreler yazı ile gösterilecek, \n",
    "temel fizik işlemleri kendi kodlarınız olacak\n",
    "daha gelişmiş fizik işlemleri için python kütüphaneleri kullanılabilir.\n",
    "kullanılan fonksiyonlarda docstring olacak.\n"
   ]
  },
  {
   "cell_type": "code",
   "execution_count": 2,
   "metadata": {},
   "outputs": [
    {
     "name": "stdout",
     "output_type": "stream",
     "text": [
      "['domates', 'patetes', 'peynir', 'muz']\n",
      "4\n",
      "<class 'list'>\n"
     ]
    }
   ],
   "source": [
    "# data structures - veri yapıları\n",
    "\n",
    "alış_veriş_listesi = [\n",
    "    \"domates\",\n",
    "    \"patetes\",\n",
    "    \"peynir\",\"muz\"\n",
    "]\n",
    "\n",
    "print(alış_veriş_listesi)\n",
    "print( len(alış_veriş_listesi) )\n",
    "print( type(alış_veriş_listesi) )"
   ]
  },
  {
   "cell_type": "code",
   "execution_count": 4,
   "metadata": {},
   "outputs": [
    {
     "data": {
      "text/plain": [
       "5"
      ]
     },
     "execution_count": 4,
     "metadata": {},
     "output_type": "execute_result"
    }
   ],
   "source": [
    "liste = [ 25, 1.2 , True, \"Metin\", [\"matematik\" , 25, [\"alt liste\"]] ]\n",
    "\n",
    "len(liste)"
   ]
  },
  {
   "cell_type": "markdown",
   "metadata": {},
   "source": [
    "### tüm dillerde array - dizi mantığı [] ile kullanılır.  \n",
    "python için bu liste olarak adlandırılır."
   ]
  },
  {
   "cell_type": "code",
   "execution_count": 14,
   "metadata": {},
   "outputs": [
    {
     "name": "stdout",
     "output_type": "stream",
     "text": [
      "r b a a b\n"
     ]
    }
   ],
   "source": [
    "a = \"merhaba\"  # immutable str\n",
    "ls_a = [\"m\",\"e\",\"r\",\"h\",\"a\",\"b\",\"a\"]  #mutable list\n",
    "tp_a = (\"m\",\"e\",\"r\",\"h\",\"a\",\"b\",\"a\")  #immutable tuple\n",
    "\n",
    "# for x in ls_a :\n",
    "#     print(x)\n",
    "# print( len(a) , len(ls_a) )\n",
    "print(  a[2], ls_a[5] ,ls_a[ len(ls_a) -1 ], a[-1] ,ls_a[-2] )"
   ]
  },
  {
   "cell_type": "code",
   "execution_count": 18,
   "metadata": {},
   "outputs": [
    {
     "name": "stdout",
     "output_type": "stream",
     "text": [
      "['m', 'e', 'r', 'x', 'a', 'b', 'a'] merhaba\n"
     ]
    }
   ],
   "source": [
    "ls_a[3] = \"x\"\n",
    "print(ls_a,a)\n",
    "# a[3] = \"z\"\n",
    "# print(a)"
   ]
  },
  {
   "cell_type": "code",
   "execution_count": 27,
   "metadata": {},
   "outputs": [
    {
     "name": "stdout",
     "output_type": "stream",
     "text": [
      "merzaba\n",
      "merzaba\n",
      "merzab\n"
     ]
    }
   ],
   "source": [
    "# a str değişkeninden veya tp_a 'dan merzaba yazdırın..\n",
    "\n",
    "print(a[0]+a[1]+a[2]+\"z\"+a[4]+a[5]+a[6])\n",
    "\n",
    "for i in range(len(a)):\n",
    "    if i==3:\n",
    "        print(\"z\",end=\"\")\n",
    "        continue\n",
    "    print(a[i],end=\"\")\n",
    "print(\"\")\n",
    "print( a[0:3] +\"z\"+ a[4:])"
   ]
  },
  {
   "cell_type": "code",
   "execution_count": 37,
   "metadata": {},
   "outputs": [
    {
     "name": "stdout",
     "output_type": "stream",
     "text": [
      "0 m\n",
      "3 h\n",
      "6 a\n"
     ]
    }
   ],
   "source": [
    "a = \"merhaba\"\n",
    "for indis in range(0,len(a),3):\n",
    "    # if indis % 2 == 0:\n",
    "    #     print( a[indis] )\n",
    "    print(indis, a[indis])"
   ]
  },
  {
   "cell_type": "code",
   "execution_count": 39,
   "metadata": {},
   "outputs": [
    {
     "name": "stdout",
     "output_type": "stream",
     "text": [
      "mha\n"
     ]
    }
   ],
   "source": [
    "print(a[0:7:3])"
   ]
  },
  {
   "cell_type": "code",
   "execution_count": 43,
   "metadata": {},
   "outputs": [
    {
     "name": "stdout",
     "output_type": "stream",
     "text": [
      "matematik 55\n",
      "programlama 88\n",
      "fizik 22\n"
     ]
    }
   ],
   "source": [
    "# matematik 55\n",
    "# programlama 88\n",
    "# fizik 22\n",
    "notlar = [\n",
    "    \"matematik\",55 ,\"programlama\" , 88 , \"fizik\" , 22\n",
    "]\n",
    "for z in range(0,len(notlar),2):\n",
    "    print(notlar[z] , notlar[z+1])"
   ]
  },
  {
   "cell_type": "code",
   "execution_count": 47,
   "metadata": {},
   "outputs": [
    {
     "name": "stdout",
     "output_type": "stream",
     "text": [
      "3 matematik\n"
     ]
    }
   ],
   "source": [
    "notlar_v2 = [\n",
    "    [\"matematik\",55],\n",
    "    [\"fizik\",32],\n",
    "    [\"kimya\",12]\n",
    "]\n",
    "print( len( notlar_v2) , notlar_v2[0][0])"
   ]
  },
  {
   "cell_type": "code",
   "execution_count": 51,
   "metadata": {},
   "outputs": [
    {
     "name": "stdout",
     "output_type": "stream",
     "text": [
      "[2, 9, 4] [2, 5, 4]\n"
     ]
    }
   ],
   "source": [
    "x = [ 2, 9 , 4]\n",
    "y = x[:]\n",
    "y[1] = 5\n",
    "print(x , y)"
   ]
  },
  {
   "cell_type": "code",
   "execution_count": 57,
   "metadata": {},
   "outputs": [
    {
     "data": {
      "text/plain": [
       "['Ekmek', 'patates', 'soğan']"
      ]
     },
     "execution_count": 57,
     "metadata": {},
     "output_type": "execute_result"
    }
   ],
   "source": [
    "pazar_listesi = [\"patates\" , \"domates\" , \"nar\"]\n",
    "\n",
    "pazar_listesi.append(\"soğan\")\n",
    "pazar_listesi.remove(\"domates\")\n",
    "pazar_listesi.insert(0,\"Ekmek\")\n",
    "del pazar_listesi[2]\n",
    "\n",
    "pazar_listesi"
   ]
  },
  {
   "cell_type": "markdown",
   "metadata": {},
   "source": [
    "### Dictionary -  Sözlük Tipi Değişken"
   ]
  },
  {
   "cell_type": "code",
   "execution_count": 58,
   "metadata": {},
   "outputs": [
    {
     "name": "stdout",
     "output_type": "stream",
     "text": [
      "{'anahtar': 'değer', 'time': 'zaman', 'matematik': 55}\n"
     ]
    }
   ],
   "source": [
    "# anahtar - değer ikilisi\n",
    "# key - value\n",
    "sözlük = { \"anahtar\" : \"değer\"  , \"time\" : \"zaman\", \"matematik\" :55 }\n",
    "#print(sözlük)\n"
   ]
  },
  {
   "cell_type": "code",
   "execution_count": 59,
   "metadata": {},
   "outputs": [
    {
     "name": "stdout",
     "output_type": "stream",
     "text": [
      "h h h h\n"
     ]
    }
   ],
   "source": [
    "a = \"merhaba\"\n",
    "ls_a = [\"m\",\"e\",\"r\",\"h\",\"a\",\"b\",\"a\"]  \n",
    "tp_a = (\"m\",\"e\",\"r\",\"h\",\"a\",\"b\",\"a\")  \n",
    "dc_a = {0:\"m\",1:\"e\",2:\"r\",3:\"h\",4:\"a\",5:\"b\",6:\"a\"}\n",
    "\n",
    "print( a[3] , ls_a[3] , tp_a[3] ,dc_a[3] )"
   ]
  },
  {
   "cell_type": "code",
   "execution_count": 62,
   "metadata": {},
   "outputs": [
    {
     "name": "stdout",
     "output_type": "stream",
     "text": [
      "zaman\n",
      "son değil..\n"
     ]
    }
   ],
   "source": [
    "sözlük = { \"anahtar\" : \"değer\", -1:\"son değil..\"  , \"time\" : \"zaman\", \"matematik\" :55 }\n",
    "\n",
    "print(sözlük[\"time\"])\n",
    "# sözlükteki son nesneyi yazdırın..\n",
    "print(sözlük[-1])"
   ]
  },
  {
   "cell_type": "code",
   "execution_count": 65,
   "metadata": {},
   "outputs": [
    {
     "name": "stdout",
     "output_type": "stream",
     "text": [
      "anahtar : değer\n",
      "-1 : son değil..\n",
      "time : zaman\n",
      "matematik : 55\n"
     ]
    }
   ],
   "source": [
    "for i in sözlük:\n",
    "    print(i ,\":\",sözlük[i])"
   ]
  },
  {
   "cell_type": "code",
   "execution_count": 69,
   "metadata": {},
   "outputs": [
    {
     "name": "stdout",
     "output_type": "stream",
     "text": [
      "[1, 3, 4, 5, 7, 9]\n"
     ]
    }
   ],
   "source": [
    "sayilar = [ 9 , 5 , 7 , 1 , 3 , 4]\n",
    "sayilar_d = { 1:22 , 2 :34 }\n",
    "\n",
    "sayilar.sort()\n",
    "print(sayilar)\n"
   ]
  }
 ],
 "metadata": {
  "kernelspec": {
   "display_name": "Python 3.10.8 64-bit",
   "language": "python",
   "name": "python3"
  },
  "language_info": {
   "codemirror_mode": {
    "name": "ipython",
    "version": 3
   },
   "file_extension": ".py",
   "mimetype": "text/x-python",
   "name": "python",
   "nbconvert_exporter": "python",
   "pygments_lexer": "ipython3",
   "version": "3.10.8"
  },
  "orig_nbformat": 4,
  "vscode": {
   "interpreter": {
    "hash": "e7370f93d1d0cde622a1f8e1c04877d8463912d04d973331ad4851f04de6915a"
   }
  }
 },
 "nbformat": 4,
 "nbformat_minor": 2
}
